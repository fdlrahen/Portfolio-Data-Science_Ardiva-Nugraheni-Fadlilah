{
 "cells": [
  {
   "cell_type": "code",
   "execution_count": 11,
   "id": "9912978a-e38f-43c7-9943-c720f1a40911",
   "metadata": {
    "scrolled": true
   },
   "outputs": [
    {
     "name": "stderr",
     "output_type": "stream",
     "text": [
      "huggingface/tokenizers: The current process just got forked, after parallelism has already been used. Disabling parallelism to avoid deadlocks...\n",
      "To disable this warning, you can either:\n",
      "\t- Avoid using `tokenizers` before the fork if possible\n",
      "\t- Explicitly set the environment variable TOKENIZERS_PARALLELISM=(true | false)\n",
      "huggingface/tokenizers: The current process just got forked, after parallelism has already been used. Disabling parallelism to avoid deadlocks...\n",
      "To disable this warning, you can either:\n",
      "\t- Avoid using `tokenizers` before the fork if possible\n",
      "\t- Explicitly set the environment variable TOKENIZERS_PARALLELISM=(true | false)\n",
      "huggingface/tokenizers: The current process just got forked, after parallelism has already been used. Disabling parallelism to avoid deadlocks...\n",
      "To disable this warning, you can either:\n",
      "\t- Avoid using `tokenizers` before the fork if possible\n",
      "\t- Explicitly set the environment variable TOKENIZERS_PARALLELISM=(true | false)\n"
     ]
    },
    {
     "name": "stdout",
     "output_type": "stream",
     "text": [
      "Requirement already satisfied: torch in /home/isnrdra/jupyter_env/lib/python3.12/site-packages (2.7.1)\n",
      "Requirement already satisfied: filelock in /home/isnrdra/jupyter_env/lib/python3.12/site-packages (from torch) (3.18.0)\n",
      "Requirement already satisfied: typing-extensions>=4.10.0 in /home/isnrdra/jupyter_env/lib/python3.12/site-packages (from torch) (4.14.0)\n",
      "Requirement already satisfied: setuptools in /home/isnrdra/jupyter_env/lib/python3.12/site-packages (from torch) (80.9.0)\n",
      "Requirement already satisfied: sympy>=1.13.3 in /home/isnrdra/jupyter_env/lib/python3.12/site-packages (from torch) (1.14.0)\n",
      "Requirement already satisfied: networkx in /home/isnrdra/jupyter_env/lib/python3.12/site-packages (from torch) (3.5)\n",
      "Requirement already satisfied: jinja2 in /home/isnrdra/jupyter_env/lib/python3.12/site-packages (from torch) (3.1.6)\n",
      "Requirement already satisfied: fsspec in /home/isnrdra/jupyter_env/lib/python3.12/site-packages (from torch) (2025.5.1)\n",
      "Requirement already satisfied: nvidia-cuda-nvrtc-cu12==12.6.77 in /home/isnrdra/jupyter_env/lib/python3.12/site-packages (from torch) (12.6.77)\n",
      "Requirement already satisfied: nvidia-cuda-runtime-cu12==12.6.77 in /home/isnrdra/jupyter_env/lib/python3.12/site-packages (from torch) (12.6.77)\n",
      "Requirement already satisfied: nvidia-cuda-cupti-cu12==12.6.80 in /home/isnrdra/jupyter_env/lib/python3.12/site-packages (from torch) (12.6.80)\n",
      "Requirement already satisfied: nvidia-cudnn-cu12==9.5.1.17 in /home/isnrdra/jupyter_env/lib/python3.12/site-packages (from torch) (9.5.1.17)\n",
      "Requirement already satisfied: nvidia-cublas-cu12==12.6.4.1 in /home/isnrdra/jupyter_env/lib/python3.12/site-packages (from torch) (12.6.4.1)\n",
      "Requirement already satisfied: nvidia-cufft-cu12==11.3.0.4 in /home/isnrdra/jupyter_env/lib/python3.12/site-packages (from torch) (11.3.0.4)\n",
      "Requirement already satisfied: nvidia-curand-cu12==10.3.7.77 in /home/isnrdra/jupyter_env/lib/python3.12/site-packages (from torch) (10.3.7.77)\n",
      "Requirement already satisfied: nvidia-cusolver-cu12==11.7.1.2 in /home/isnrdra/jupyter_env/lib/python3.12/site-packages (from torch) (11.7.1.2)\n",
      "Requirement already satisfied: nvidia-cusparse-cu12==12.5.4.2 in /home/isnrdra/jupyter_env/lib/python3.12/site-packages (from torch) (12.5.4.2)\n",
      "Requirement already satisfied: nvidia-cusparselt-cu12==0.6.3 in /home/isnrdra/jupyter_env/lib/python3.12/site-packages (from torch) (0.6.3)\n",
      "Requirement already satisfied: nvidia-nccl-cu12==2.26.2 in /home/isnrdra/jupyter_env/lib/python3.12/site-packages (from torch) (2.26.2)\n",
      "Requirement already satisfied: nvidia-nvtx-cu12==12.6.77 in /home/isnrdra/jupyter_env/lib/python3.12/site-packages (from torch) (12.6.77)\n",
      "Requirement already satisfied: nvidia-nvjitlink-cu12==12.6.85 in /home/isnrdra/jupyter_env/lib/python3.12/site-packages (from torch) (12.6.85)\n",
      "Requirement already satisfied: nvidia-cufile-cu12==1.11.1.6 in /home/isnrdra/jupyter_env/lib/python3.12/site-packages (from torch) (1.11.1.6)\n",
      "Requirement already satisfied: triton==3.3.1 in /home/isnrdra/jupyter_env/lib/python3.12/site-packages (from torch) (3.3.1)\n",
      "Requirement already satisfied: mpmath<1.4,>=1.1.0 in /home/isnrdra/jupyter_env/lib/python3.12/site-packages (from sympy>=1.13.3->torch) (1.3.0)\n",
      "Requirement already satisfied: MarkupSafe>=2.0 in /home/isnrdra/jupyter_env/lib/python3.12/site-packages (from jinja2->torch) (3.0.2)\n",
      "Note: you may need to restart the kernel to use updated packages.\n"
     ]
    },
    {
     "name": "stderr",
     "output_type": "stream",
     "text": [
      "huggingface/tokenizers: The current process just got forked, after parallelism has already been used. Disabling parallelism to avoid deadlocks...\n",
      "To disable this warning, you can either:\n",
      "\t- Avoid using `tokenizers` before the fork if possible\n",
      "\t- Explicitly set the environment variable TOKENIZERS_PARALLELISM=(true | false)\n"
     ]
    },
    {
     "name": "stdout",
     "output_type": "stream",
     "text": [
      "Requirement already satisfied: ctransformers in /home/isnrdra/jupyter_env/lib/python3.12/site-packages (0.2.27)\n",
      "Requirement already satisfied: streamlit in /home/isnrdra/jupyter_env/lib/python3.12/site-packages (1.46.0)\n",
      "Requirement already satisfied: huggingface-hub in /home/isnrdra/jupyter_env/lib/python3.12/site-packages (from ctransformers) (0.33.1)\n",
      "Requirement already satisfied: py-cpuinfo<10.0.0,>=9.0.0 in /home/isnrdra/jupyter_env/lib/python3.12/site-packages (from ctransformers) (9.0.0)\n",
      "Requirement already satisfied: altair<6,>=4.0 in /home/isnrdra/jupyter_env/lib/python3.12/site-packages (from streamlit) (5.5.0)\n",
      "Requirement already satisfied: blinker<2,>=1.5.0 in /home/isnrdra/jupyter_env/lib/python3.12/site-packages (from streamlit) (1.9.0)\n",
      "Requirement already satisfied: cachetools<7,>=4.0 in /home/isnrdra/jupyter_env/lib/python3.12/site-packages (from streamlit) (6.1.0)\n",
      "Requirement already satisfied: click<9,>=7.0 in /home/isnrdra/jupyter_env/lib/python3.12/site-packages (from streamlit) (8.2.1)\n",
      "Requirement already satisfied: numpy<3,>=1.23 in /home/isnrdra/jupyter_env/lib/python3.12/site-packages (from streamlit) (2.3.1)\n",
      "Requirement already satisfied: packaging<26,>=20 in /home/isnrdra/jupyter_env/lib/python3.12/site-packages (from streamlit) (24.2)\n",
      "Requirement already satisfied: pandas<3,>=1.4.0 in /home/isnrdra/jupyter_env/lib/python3.12/site-packages (from streamlit) (2.3.0)\n",
      "Requirement already satisfied: pillow<12,>=7.1.0 in /home/isnrdra/jupyter_env/lib/python3.12/site-packages (from streamlit) (11.2.1)\n",
      "Requirement already satisfied: protobuf<7,>=3.20 in /home/isnrdra/jupyter_env/lib/python3.12/site-packages (from streamlit) (6.31.1)\n",
      "Requirement already satisfied: pyarrow>=7.0 in /home/isnrdra/jupyter_env/lib/python3.12/site-packages (from streamlit) (20.0.0)\n",
      "Requirement already satisfied: requests<3,>=2.27 in /home/isnrdra/jupyter_env/lib/python3.12/site-packages (from streamlit) (2.32.4)\n",
      "Requirement already satisfied: tenacity<10,>=8.1.0 in /home/isnrdra/jupyter_env/lib/python3.12/site-packages (from streamlit) (9.1.2)\n",
      "Requirement already satisfied: toml<2,>=0.10.1 in /home/isnrdra/jupyter_env/lib/python3.12/site-packages (from streamlit) (0.10.2)\n",
      "Requirement already satisfied: typing-extensions<5,>=4.4.0 in /home/isnrdra/jupyter_env/lib/python3.12/site-packages (from streamlit) (4.14.0)\n",
      "Requirement already satisfied: watchdog<7,>=2.1.5 in /home/isnrdra/jupyter_env/lib/python3.12/site-packages (from streamlit) (6.0.0)\n",
      "Requirement already satisfied: gitpython!=3.1.19,<4,>=3.0.7 in /home/isnrdra/jupyter_env/lib/python3.12/site-packages (from streamlit) (3.1.44)\n",
      "Requirement already satisfied: pydeck<1,>=0.8.0b4 in /home/isnrdra/jupyter_env/lib/python3.12/site-packages (from streamlit) (0.9.1)\n",
      "Requirement already satisfied: tornado!=6.5.0,<7,>=6.0.3 in /home/isnrdra/jupyter_env/lib/python3.12/site-packages (from streamlit) (6.5.1)\n",
      "Requirement already satisfied: jinja2 in /home/isnrdra/jupyter_env/lib/python3.12/site-packages (from altair<6,>=4.0->streamlit) (3.1.6)\n",
      "Requirement already satisfied: jsonschema>=3.0 in /home/isnrdra/jupyter_env/lib/python3.12/site-packages (from altair<6,>=4.0->streamlit) (4.24.0)\n",
      "Requirement already satisfied: narwhals>=1.14.2 in /home/isnrdra/jupyter_env/lib/python3.12/site-packages (from altair<6,>=4.0->streamlit) (1.44.0)\n",
      "Requirement already satisfied: gitdb<5,>=4.0.1 in /home/isnrdra/jupyter_env/lib/python3.12/site-packages (from gitpython!=3.1.19,<4,>=3.0.7->streamlit) (4.0.12)\n",
      "Requirement already satisfied: python-dateutil>=2.8.2 in /home/isnrdra/jupyter_env/lib/python3.12/site-packages (from pandas<3,>=1.4.0->streamlit) (2.9.0.post0)\n",
      "Requirement already satisfied: pytz>=2020.1 in /home/isnrdra/jupyter_env/lib/python3.12/site-packages (from pandas<3,>=1.4.0->streamlit) (2025.2)\n",
      "Requirement already satisfied: tzdata>=2022.7 in /home/isnrdra/jupyter_env/lib/python3.12/site-packages (from pandas<3,>=1.4.0->streamlit) (2025.2)\n",
      "Requirement already satisfied: charset_normalizer<4,>=2 in /home/isnrdra/jupyter_env/lib/python3.12/site-packages (from requests<3,>=2.27->streamlit) (3.4.2)\n",
      "Requirement already satisfied: idna<4,>=2.5 in /home/isnrdra/jupyter_env/lib/python3.12/site-packages (from requests<3,>=2.27->streamlit) (3.10)\n",
      "Requirement already satisfied: urllib3<3,>=1.21.1 in /home/isnrdra/jupyter_env/lib/python3.12/site-packages (from requests<3,>=2.27->streamlit) (2.5.0)\n",
      "Requirement already satisfied: certifi>=2017.4.17 in /home/isnrdra/jupyter_env/lib/python3.12/site-packages (from requests<3,>=2.27->streamlit) (2025.6.15)\n",
      "Requirement already satisfied: filelock in /home/isnrdra/jupyter_env/lib/python3.12/site-packages (from huggingface-hub->ctransformers) (3.18.0)\n",
      "Requirement already satisfied: fsspec>=2023.5.0 in /home/isnrdra/jupyter_env/lib/python3.12/site-packages (from huggingface-hub->ctransformers) (2025.5.1)\n",
      "Requirement already satisfied: pyyaml>=5.1 in /home/isnrdra/jupyter_env/lib/python3.12/site-packages (from huggingface-hub->ctransformers) (6.0.2)\n",
      "Requirement already satisfied: tqdm>=4.42.1 in /home/isnrdra/jupyter_env/lib/python3.12/site-packages (from huggingface-hub->ctransformers) (4.67.1)\n",
      "Requirement already satisfied: hf-xet<2.0.0,>=1.1.2 in /home/isnrdra/jupyter_env/lib/python3.12/site-packages (from huggingface-hub->ctransformers) (1.1.5)\n",
      "Requirement already satisfied: smmap<6,>=3.0.1 in /home/isnrdra/jupyter_env/lib/python3.12/site-packages (from gitdb<5,>=4.0.1->gitpython!=3.1.19,<4,>=3.0.7->streamlit) (5.0.2)\n",
      "Requirement already satisfied: MarkupSafe>=2.0 in /home/isnrdra/jupyter_env/lib/python3.12/site-packages (from jinja2->altair<6,>=4.0->streamlit) (3.0.2)\n",
      "Requirement already satisfied: attrs>=22.2.0 in /home/isnrdra/jupyter_env/lib/python3.12/site-packages (from jsonschema>=3.0->altair<6,>=4.0->streamlit) (25.3.0)\n",
      "Requirement already satisfied: jsonschema-specifications>=2023.03.6 in /home/isnrdra/jupyter_env/lib/python3.12/site-packages (from jsonschema>=3.0->altair<6,>=4.0->streamlit) (2025.4.1)\n",
      "Requirement already satisfied: referencing>=0.28.4 in /home/isnrdra/jupyter_env/lib/python3.12/site-packages (from jsonschema>=3.0->altair<6,>=4.0->streamlit) (0.36.2)\n",
      "Requirement already satisfied: rpds-py>=0.7.1 in /home/isnrdra/jupyter_env/lib/python3.12/site-packages (from jsonschema>=3.0->altair<6,>=4.0->streamlit) (0.25.1)\n",
      "Requirement already satisfied: six>=1.5 in /home/isnrdra/jupyter_env/lib/python3.12/site-packages (from python-dateutil>=2.8.2->pandas<3,>=1.4.0->streamlit) (1.17.0)\n"
     ]
    },
    {
     "name": "stderr",
     "output_type": "stream",
     "text": [
      "huggingface/tokenizers: The current process just got forked, after parallelism has already been used. Disabling parallelism to avoid deadlocks...\n",
      "To disable this warning, you can either:\n",
      "\t- Avoid using `tokenizers` before the fork if possible\n",
      "\t- Explicitly set the environment variable TOKENIZERS_PARALLELISM=(true | false)\n"
     ]
    },
    {
     "name": "stdout",
     "output_type": "stream",
     "text": [
      "Requirement already satisfied: huggingface_hub in /home/isnrdra/jupyter_env/lib/python3.12/site-packages (0.33.1)\n",
      "Requirement already satisfied: filelock in /home/isnrdra/jupyter_env/lib/python3.12/site-packages (from huggingface_hub) (3.18.0)\n",
      "Requirement already satisfied: fsspec>=2023.5.0 in /home/isnrdra/jupyter_env/lib/python3.12/site-packages (from huggingface_hub) (2025.5.1)\n",
      "Requirement already satisfied: packaging>=20.9 in /home/isnrdra/jupyter_env/lib/python3.12/site-packages (from huggingface_hub) (24.2)\n",
      "Requirement already satisfied: pyyaml>=5.1 in /home/isnrdra/jupyter_env/lib/python3.12/site-packages (from huggingface_hub) (6.0.2)\n",
      "Requirement already satisfied: requests in /home/isnrdra/jupyter_env/lib/python3.12/site-packages (from huggingface_hub) (2.32.4)\n",
      "Requirement already satisfied: tqdm>=4.42.1 in /home/isnrdra/jupyter_env/lib/python3.12/site-packages (from huggingface_hub) (4.67.1)\n",
      "Requirement already satisfied: typing-extensions>=3.7.4.3 in /home/isnrdra/jupyter_env/lib/python3.12/site-packages (from huggingface_hub) (4.14.0)\n",
      "Requirement already satisfied: hf-xet<2.0.0,>=1.1.2 in /home/isnrdra/jupyter_env/lib/python3.12/site-packages (from huggingface_hub) (1.1.5)\n",
      "Requirement already satisfied: charset_normalizer<4,>=2 in /home/isnrdra/jupyter_env/lib/python3.12/site-packages (from requests->huggingface_hub) (3.4.2)\n",
      "Requirement already satisfied: idna<4,>=2.5 in /home/isnrdra/jupyter_env/lib/python3.12/site-packages (from requests->huggingface_hub) (3.10)\n",
      "Requirement already satisfied: urllib3<3,>=1.21.1 in /home/isnrdra/jupyter_env/lib/python3.12/site-packages (from requests->huggingface_hub) (2.5.0)\n",
      "Requirement already satisfied: certifi>=2017.4.17 in /home/isnrdra/jupyter_env/lib/python3.12/site-packages (from requests->huggingface_hub) (2025.6.15)\n"
     ]
    }
   ],
   "source": [
    "!pip install -q requests beautifulsoup4 langchain\n",
    "!pip install -q sentence-transformers faiss-cpu\n",
    "%pip install torch\n",
    "!pip install ctransformers streamlit\n",
    "!pip install huggingface_hub"
   ]
  },
  {
   "cell_type": "markdown",
   "id": "dc021f41-306e-457e-b749-b29acd60f307",
   "metadata": {},
   "source": [
    "## 1. Scraping & Knowledge Base Building"
   ]
  },
  {
   "cell_type": "code",
   "execution_count": 2,
   "id": "3948aaa1-1697-4f56-882f-51fdc161b5e6",
   "metadata": {},
   "outputs": [
    {
     "name": "stdout",
     "output_type": "stream",
     "text": [
      "Scraping: https://www.uksw.edu/\n",
      "Scraping: https://www.uksw.edu/#content\n",
      "Scraping: https://www.uksw.edu/riset-uksw/\n",
      "Scraping: https://www.uksw.edu/international-office/\n",
      "Scraping: https://www.uksw.edu\n",
      "Scraping: https://www.uksw.edu/sejarah/\n",
      "Scraping: https://www.uksw.edu/pendiri/\n",
      "Scraping: https://www.uksw.edu/lambang/\n",
      "Scraping: https://www.uksw.edu/visi-misi/\n",
      "Scraping: https://www.uksw.edu/gereja-pendukung/\n",
      "Scraping: https://www.uksw.edu/pimpinan-universitas/\n",
      "Scraping: https://www.uksw.edu/pimpinan-fakultas/\n",
      "Error scraping https://www.uksw.edu/pimpinan-fakultas/: HTTPSConnectionPool(host='www.uksw.edu', port=443): Read timed out. (read timeout=10)\n",
      "Scraping: https://www.uksw.edu/pimpinan-direktorat/\n",
      "Scraping: https://www.uksw.edu/senat-universitas/\n",
      "Scraping: https://www.uksw.edu/fakultas/\n",
      "Scraping: https://www.uksw.edu/sekolah-laboratorium/\n",
      "Error scraping https://www.uksw.edu/sekolah-laboratorium/: HTTPSConnectionPool(host='www.uksw.edu', port=443): Read timed out. (read timeout=10)\n",
      "Scraping: https://www.uksw.edu/direktorat/\n",
      "Scraping: https://www.uksw.edu/pembangunan-berkelanjutan/\n",
      "Scraping: https://siasat.uksw.edu/\n",
      "Scraping: https://flearn.uksw.edu/\n",
      "Scraping: https://ejournal.uksw.edu/\n",
      "Scraping: https://webopac.uksw.edu/\n",
      "Error scraping https://webopac.uksw.edu/: HTTPSConnectionPool(host='webopac.uksw.edu', port=443): Read timed out. (read timeout=10)\n",
      "Scraping: https://repository.uksw.edu/\n",
      "Scraping: https://risat.uksw.edu/\n",
      "Scraping: https://www.uksw.edu/akademik/\n",
      "Scraping: https://www.uksw.edu/alumni/\n",
      "Scraping: https://www.uksw.edu/beasiswa/\n",
      "Scraping: https://www.uksw.edu/ucapan-digital/\n",
      "Scraping: https://www.uksw.edu/klinik-pratama/\n",
      "Scraping: https://www.uksw.edu/language-training-center/\n",
      "Scraping: https://www.uksw.edu/pusat-studi/\n",
      "Scraping: https://www.uksw.edu/perpustakaan/\n",
      "Scraping: https://www.uksw.edu/fasilitas-kampus/\n",
      "Scraping: https://fti.uksw.edu/\n",
      "Scraping: https://fti.uksw.edu/tentang-fti-uksw/profil-fti-uksw.html\n",
      "Scraping: https://fti.uksw.edu/tentang-fti-uksw/visi-dan-misi.html\n",
      "Scraping: https://fti.uksw.edu/tentang-fti-uksw/fasilitas.html\n",
      "Scraping: https://fti.uksw.edu/tentang-fti-uksw/staf/pimpinan.html\n",
      "Scraping: https://fti.uksw.edu/tentang-fti-uksw/staf/staf-pengajar.html\n",
      "Scraping: https://fti.uksw.edu/tentang-fti-uksw/unduhan.html\n",
      "Scraping: https://fti.uksw.edu/akademik.html\n",
      "Scraping: https://fti.uksw.edu/akademik/program-diploma.html\n",
      "Scraping: https://fti.uksw.edu/akademik/program-diploma/teknik-informatika.html\n",
      "Scraping: https://fti.uksw.edu/akademik/program-sarjana.html\n",
      "Scraping: https://fti.uksw.edu/akademik/program-sarjana/teknik-informatika.html\n",
      "Scraping: https://fti.uksw.edu/akademik/program-sarjana/sistem-informasi.html\n",
      "Scraping: https://fti.uksw.edu/akademik/program-sarjana/desain-komunikasi-visual.html\n",
      "Scraping: https://fti.uksw.edu/akademik/program-sarjana/pendidikan-teknik-informatika-dan-komputer.html\n",
      "Scraping: https://fti.uksw.edu/akademik/program-sarjana/hubungan-masyarakat.html\n",
      "Scraping: https://fti.uksw.edu/akademik/program-sarjana/ilmu-perpustakaan.html\n",
      "Scraping: https://fti.uksw.edu/akademik/program-sarjana/bisnis-digital.html\n",
      "Scraping: https://fti.uksw.edu/akademik/program-pascasarjana/magister-sistem-informasi.html\n",
      "Scraping: https://fti.uksw.edu/akademik/program-doktoral.html\n",
      "Scraping: https://fti.uksw.edu/akademik/program-doktoral/doktoral-ilmu-komputer.html\n",
      "Scraping: https://fti.uksw.edu/akademik/admisi.html\n",
      "Scraping: https://fti.uksw.edu/berita.html\n",
      "Scraping: https://fti.uksw.edu/kemahasiswaan.html\n",
      "Scraping: https://fti.uksw.edu/alumni.html\n",
      "Scraping: https://fti.uksw.edu/pengumuman.html\n",
      "Scraping: https://fti.uksw.edu/login.html\n",
      "Scraping: https://fti.uksw.edu/pengumuman/pengumuman-fakultas/1087-penerimaan-mahasiswa-baru-2023-2024.html\n",
      "Scraping: https://icast2025.uksw.edu/\n",
      "Scraping: https://fti.uksw.edu/?id=8\n",
      "Scraping: https://www.uksw.edu/akademik/fakultas\n",
      "Error scraping https://www.uksw.edu/akademik/fakultas: HTTPSConnectionPool(host='www.uksw.edu', port=443): Read timed out. (read timeout=10)\n"
     ]
    }
   ],
   "source": [
    "import requests\n",
    "from bs4 import BeautifulSoup\n",
    "from urllib.parse import urljoin, urlparse\n",
    "import time\n",
    "\n",
    "visited = set()\n",
    "\n",
    "def scrape_site(start_url, allowed_domain, max_pages=100):\n",
    "    queue = [start_url]\n",
    "    pages_scraped = 0\n",
    "    scraped_data = []\n",
    "\n",
    "    while queue and pages_scraped < max_pages:\n",
    "        url = queue.pop(0)\n",
    "\n",
    "        if url in visited:\n",
    "            continue\n",
    "\n",
    "        print(f\"Scraping: {url}\")\n",
    "        try:\n",
    "            response = requests.get(url, timeout=10)\n",
    "            if response.status_code == 200:\n",
    "                soup = BeautifulSoup(response.text, \"html.parser\")\n",
    "                \n",
    "                # extract text\n",
    "                page_text = soup.get_text(separator=' ', strip=True)\n",
    "                scraped_data.append({\n",
    "                    \"url\": url,\n",
    "                    \"text\": page_text\n",
    "                })\n",
    "\n",
    "                # find new links\n",
    "                for link_tag in soup.find_all(\"a\", href=True):\n",
    "                    href = link_tag[\"href\"]\n",
    "                    full_url = urljoin(url, href)\n",
    "                    parsed = urlparse(full_url)\n",
    "                    if allowed_domain in parsed.netloc and full_url not in visited:\n",
    "                        queue.append(full_url)\n",
    "\n",
    "                pages_scraped += 1\n",
    "                visited.add(url)\n",
    "                \n",
    "                time.sleep(0.5)  # be nice to server\n",
    "        except Exception as e:\n",
    "            print(f\"Error scraping {url}: {e}\")\n",
    "    \n",
    "    return scraped_data\n",
    "\n",
    "if __name__ == \"__main__\":\n",
    "    # contoh untuk domain uksw\n",
    "    urls_to_scrape = [\n",
    "        \"https://www.uksw.edu/\",\n",
    "        \"https://fti.uksw.edu/\",\n",
    "        \"https://www.uksw.edu/akademik/fakultas\"\n",
    "    ]\n",
    "\n",
    "    all_data = []\n",
    "    for u in urls_to_scrape:\n",
    "        data = scrape_site(u, \"uksw.edu\", max_pages=30)\n",
    "        all_data.extend(data)\n",
    "    \n",
    "    # simpan ke json\n",
    "    import json\n",
    "    with open(\"uksw_scraped.json\", \"w\", encoding=\"utf-8\") as f:\n",
    "        json.dump(all_data, f, ensure_ascii=False, indent=2)\n"
   ]
  },
  {
   "cell_type": "code",
   "execution_count": 5,
   "id": "f3d93848-7baa-430e-b92a-0c3918614c68",
   "metadata": {},
   "outputs": [
    {
     "name": "stdout",
     "output_type": "stream",
     "text": [
      "Total chunks: 477\n",
      "{'text': 'Home - Universitas Kristen Satya Wacana Skip to content Informasi Riset & Inovasi International Office Beranda Tentang UKSW Sejarah Pendiri Lambang Visi & Misi Sinode Gereja Pendukung Pimpinan Pimpinan Universitas Pimpinan Fakultas Pimpinan Lembaga & Direktorat Senat Universitas Pendidikan Fakultas Sekolah Laboratorium Penunjang Lembaga & Direktorat Pembangunan Berkelanjutan SIASat Flexible Learning EJournal DigiLib Repository Risat Informasi Informasi Informasi Akademik Informasi Alumni Informasi Beasiswa Ucapan Digital Fasilitas Klinik Pratama Language Training Center Pusat Studi Perpustakaan Fasilitas Lainnya SIASat Flexible Learning EJournal DigiLib Repository Risat Kehidupan Kampus Kehidupan Kampus Unggul UKSW Bangga UKSW Go Green Pencegahan dan Penanganan Kekerasan Seksual SWS Basketball Voice of SWCU Unduhan Brosur Booklet Buletin Senin Kalender Akademik Design Guideline SIASat Flexible Learning EJournal DigiLib Repository Risat SDGs Portal X Pendaftaran Kehidupan Kampus', 'metadata': {'source': 'https://www.uksw.edu/'}}\n"
     ]
    }
   ],
   "source": [
    "import json\n",
    "import re\n",
    "from langchain.text_splitter import RecursiveCharacterTextSplitter\n",
    "\n",
    "# 1. Function membersihkan teks\n",
    "def clean_text(text: str) -> str:\n",
    "    # Hapus multiple whitespace\n",
    "    text = re.sub(r'\\s+', ' ', text)\n",
    "    \n",
    "    # Hapus karakter aneh (optional)\n",
    "    text = re.sub(r'[^\\x00-\\x7F]+', ' ', text)\n",
    "    \n",
    "    return text.strip()\n",
    "\n",
    "# 2. Function chunking teks\n",
    "def chunk_text(text, chunk_size=1000, chunk_overlap=200):\n",
    "    \"\"\"\n",
    "    Membagi teks panjang menjadi potongan (chunks)\n",
    "    agar tidak terlalu panjang untuk LLM.\n",
    "    \"\"\"\n",
    "    splitter = RecursiveCharacterTextSplitter(\n",
    "        chunk_size=chunk_size,\n",
    "        chunk_overlap=chunk_overlap,\n",
    "        separators=[\"\\n\\n\", \"\\n\", \".\", \" \"]\n",
    "    )\n",
    "    return splitter.split_text(text)\n",
    "\n",
    "# 3. Load JSON hasil scraping\n",
    "def preprocess_scraped_json(json_path, chunk_size=1000, chunk_overlap=200):\n",
    "    with open(json_path, \"r\", encoding=\"utf-8\") as f:\n",
    "        scraped_data = json.load(f)\n",
    "    \n",
    "    documents = []\n",
    "    \n",
    "    for page in scraped_data:\n",
    "        url = page.get(\"url\", \"\")\n",
    "        raw_text = page.get(\"text\", \"\")\n",
    "        \n",
    "        # Cleaning\n",
    "        cleaned_text = clean_text(raw_text)\n",
    "        \n",
    "        # Chunking\n",
    "        chunks = chunk_text(cleaned_text, chunk_size, chunk_overlap)\n",
    "        \n",
    "        # Buat list document dict\n",
    "        for chunk in chunks:\n",
    "            documents.append({\n",
    "                \"text\": chunk,\n",
    "                \"metadata\": {\n",
    "                    \"source\": url\n",
    "                }\n",
    "            })\n",
    "    \n",
    "    return documents\n",
    "\n",
    "\n",
    "processed_docs = preprocess_scraped_json(\n",
    "    \"uksw_scraped.json\",\n",
    "    chunk_size=1000,\n",
    "    chunk_overlap=200\n",
    ")\n",
    "\n",
    "print(f\"Total chunks: {len(processed_docs)}\")\n",
    "print(processed_docs[0])\n",
    "\n",
    "# Simpan hasil ke JSON\n",
    "with open(\"uksw_chunks.json\", \"w\", encoding=\"utf-8\") as f:\n",
    "    json.dump(processed_docs, f, ensure_ascii=False, indent=2)\n"
   ]
  },
  {
   "cell_type": "markdown",
   "id": "168c8766-e138-4f46-b9a4-af4c3c789e03",
   "metadata": {},
   "source": [
    "## 2. Embeddings"
   ]
  },
  {
   "cell_type": "code",
   "execution_count": 21,
   "id": "73edc115-e998-4349-a90c-b360cef1d879",
   "metadata": {},
   "outputs": [],
   "source": [
    "import json\n",
    "\n",
    "def load_chunks(path):\n",
    "    with open(path, \"r\", encoding=\"utf-8\") as f:\n",
    "        data = json.load(f)\n",
    "    return data"
   ]
  },
  {
   "cell_type": "code",
   "execution_count": 22,
   "id": "4d1ce0f8-7f7d-497e-97c5-b04afb294736",
   "metadata": {},
   "outputs": [
    {
     "name": "stdout",
     "output_type": "stream",
     "text": [
      "Total chunks: 477\n",
      "Contoh: {'text': 'Home - Universitas Kristen Satya Wacana Skip to content Informasi Riset & Inovasi International Office Beranda Tentang UKSW Sejarah Pendiri Lambang Visi & Misi Sinode Gereja Pendukung Pimpinan Pimpinan Universitas Pimpinan Fakultas Pimpinan Lembaga & Direktorat Senat Universitas Pendidikan Fakultas Sekolah Laboratorium Penunjang Lembaga & Direktorat Pembangunan Berkelanjutan SIASat Flexible Learning EJournal DigiLib Repository Risat Informasi Informasi Informasi Akademik Informasi Alumni Informasi Beasiswa Ucapan Digital Fasilitas Klinik Pratama Language Training Center Pusat Studi Perpustakaan Fasilitas Lainnya SIASat Flexible Learning EJournal DigiLib Repository Risat Kehidupan Kampus Kehidupan Kampus Unggul UKSW Bangga UKSW Go Green Pencegahan dan Penanganan Kekerasan Seksual SWS Basketball Voice of SWCU Unduhan Brosur Booklet Buletin Senin Kalender Akademik Design Guideline SIASat Flexible Learning EJournal DigiLib Repository Risat SDGs Portal X Pendaftaran Kehidupan Kampus', 'metadata': {'source': 'https://www.uksw.edu/'}}\n"
     ]
    }
   ],
   "source": [
    "docs = load_chunks(\"uksw_chunks.json\")\n",
    "print(\"Total chunks:\", len(docs))\n",
    "print(\"Contoh:\", docs[0])"
   ]
  },
  {
   "cell_type": "code",
   "execution_count": 23,
   "id": "6b06d218-2a37-4e0f-8632-363f09498da6",
   "metadata": {},
   "outputs": [
    {
     "data": {
      "application/vnd.jupyter.widget-view+json": {
       "model_id": "2b3bd0b5486d40d396dfb70d43513e8e",
       "version_major": 2,
       "version_minor": 0
      },
      "text/plain": [
       "Batches:   0%|          | 0/8 [00:00<?, ?it/s]"
      ]
     },
     "metadata": {},
     "output_type": "display_data"
    },
    {
     "name": "stdout",
     "output_type": "stream",
     "text": [
      "Index size: 477\n"
     ]
    }
   ],
   "source": [
    "from sentence_transformers import SentenceTransformer\n",
    "import numpy as np\n",
    "import faiss\n",
    "\n",
    "# load embedding model\n",
    "embedder = SentenceTransformer(\"all-MiniLM-L6-v2\")\n",
    "\n",
    "texts = [doc[\"text\"] for doc in docs]\n",
    "vectors = embedder.encode(texts, show_progress_bar=True, batch_size=64)\n",
    "\n",
    "# buat FAISS index\n",
    "dim = vectors.shape[1]\n",
    "index = faiss.IndexFlatL2(dim)\n",
    "index.add(np.array(vectors))\n",
    "\n",
    "# mapping index ke doc\n",
    "id_map = {i: docs[i] for i in range(len(docs))}\n",
    "\n",
    "print(\"Index size:\", index.ntotal)\n"
   ]
  },
  {
   "cell_type": "markdown",
   "id": "dc3e187c-3f35-4c8c-ba94-b4dfefa59a85",
   "metadata": {},
   "source": [
    "## 3. Model"
   ]
  },
  {
   "cell_type": "code",
   "execution_count": null,
   "id": "6e89d15f-bc66-48bf-b56d-2d9ebe42ffed",
   "metadata": {},
   "outputs": [
    {
     "data": {
      "application/vnd.jupyter.widget-view+json": {
       "model_id": "33339dbb26164f778c7291ac65829433",
       "version_major": 2,
       "version_minor": 0
      },
      "text/plain": [
       "Hermes-2-Pro-Mistral-7B.Q4_K_M.gguf:   0%|          | 0.00/4.37G [00:00<?, ?B/s]"
      ]
     },
     "metadata": {},
     "output_type": "display_data"
    },
    {
     "name": "stdout",
     "output_type": "stream",
     "text": [
      "Model downloaded to: models/Hermes-2-Pro-Mistral-7B.Q4_K_M.gguf\n"
     ]
    }
   ],
   "source": [
    "from huggingface_hub import hf_hub_download\n",
    "\n",
    "# Ganti tokenmu sendiri\n",
    "hf_token = \"\"\n",
    "model_id = \"NousResearch/Hermes-2-Pro-Mistral-7B-GGUF\"\n",
    "filename = \"Hermes-2-Pro-Mistral-7B.Q4_K_M.gguf\"\n",
    "\n",
    "local_path = hf_hub_download(\n",
    "    repo_id=model_id,\n",
    "    filename=filename,\n",
    "    token=hf_token,\n",
    "    local_dir=\"models\"\n",
    ")\n",
    "\n",
    "print(\"Model downloaded to:\", local_path)\n"
   ]
  },
  {
   "cell_type": "code",
   "execution_count": 17,
   "id": "b8a6a959-049b-4802-b0eb-70b3f8e27238",
   "metadata": {},
   "outputs": [
    {
     "name": "stdout",
     "output_type": "stream",
     "text": [
      "\n",
      "\n",
      "Fakultas Teknologi Informasi UKSW adalah salah satu fakultas yang berada di Universitas Kristen Satya Wacana (UKSW) Yogyakarta. Fakultas ini telah dibentuk pada tahun 1960-an untuk menyebarkan ilmu di bidang Teknologi Informasi dan Komputerisasi.\n",
      "\n",
      "Fakultas Teknologi Informasi UKSW memiliki visi untuk mengembangkan generation yang berkompeten, berpikir kritis, dan berbudaya agama yang baik dalam bidang Teknologi Informasi dan Komputerisasi. Misi fakultas ini adalah mencapai kualitas pendidikan yang tinggi, meningkatkan keterampilan siswa, dan membentuk lulusan yang berkarya dan berwawasan agama yang baik.\n",
      "\n",
      "Fakultas Teknologi Informasi UKSW menyediakan program studi di bidang Teknologi Informasi yang dibagi menjadi tiga jenis prodi, yaitu:\n",
      "\n",
      "\n"
     ]
    }
   ],
   "source": [
    "from ctransformers import AutoModelForCausalLM\n",
    "\n",
    "model = AutoModelForCausalLM.from_pretrained(\n",
    "    model_path_or_repo_id=\"models/Hermes-2-Pro-Mistral-7B.Q4_K_M.gguf\",\n",
    "    model_type=\"mistral\",\n",
    "    gpu_layers=0 # ubah kalau mau pakai GPU\n",
    ")"
   ]
  },
  {
   "cell_type": "code",
   "execution_count": 24,
   "id": "7f1f69f3-adc2-4d83-a617-fc627e533a83",
   "metadata": {},
   "outputs": [],
   "source": [
    "def search(query, index, id_map, embedder, top_k=3):\n",
    "    q_emb = embedder.encode([query])\n",
    "    distances, indices = index.search(q_emb, top_k)\n",
    "\n",
    "    results = []\n",
    "    for idx in indices[0]:\n",
    "        results.append(id_map[idx])\n",
    "    return results\n"
   ]
  },
  {
   "cell_type": "code",
   "execution_count": null,
   "id": "65654397-135c-4dc6-93aa-3cc216f13d3d",
   "metadata": {},
   "outputs": [],
   "source": []
  },
  {
   "cell_type": "code",
   "execution_count": null,
   "id": "46679c1a-402d-401e-b4ce-d1fc908b1cb4",
   "metadata": {},
   "outputs": [],
   "source": []
  }
 ],
 "metadata": {
  "kernelspec": {
   "display_name": "Python 3 (ipykernel)",
   "language": "python",
   "name": "python3"
  },
  "language_info": {
   "codemirror_mode": {
    "name": "ipython",
    "version": 3
   },
   "file_extension": ".py",
   "mimetype": "text/x-python",
   "name": "python",
   "nbconvert_exporter": "python",
   "pygments_lexer": "ipython3",
   "version": "3.12.3"
  }
 },
 "nbformat": 4,
 "nbformat_minor": 5
}
